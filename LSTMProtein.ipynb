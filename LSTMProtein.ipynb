{
  "nbformat": 4,
  "nbformat_minor": 0,
  "metadata": {
    "kernelspec": {
      "name": "python3",
      "display_name": "Python 3"
    },
    "language_info": {
      "codemirror_mode": {
        "name": "ipython",
        "version": 3
      },
      "file_extension": ".py",
      "mimetype": "text/x-python",
      "name": "python",
      "nbconvert_exporter": "python",
      "pygments_lexer": "ipython3",
      "version": "3.7.1"
    },
    "colab": {
      "name": "LSTMProtein.ipynb",
      "provenance": [],
      "collapsed_sections": [],
      "machine_shape": "hm"
    },
    "accelerator": "GPU"
  },
  "cells": [
    {
      "cell_type": "markdown",
      "metadata": {
        "id": "2yY1k0LLPW-e",
        "colab_type": "text"
      },
      "source": [
        "This notebook contains our LSTM model for the protein data set and relevant pre processing functions to be able to use our data sets with the model, furthermore the test loss and perplexity can be computed in the bottom of the notebook with the possibility of generating new sequences through sampling.\n",
        "\n",
        "Authors: Mathias Dizon Olsson s174031, Mathias Sabroe Simonsen s164034"
      ]
    },
    {
      "cell_type": "code",
      "metadata": {
        "id": "2-aBDL7Z7N28",
        "colab_type": "code",
        "colab": {}
      },
      "source": [
        "# Combine the domains into single test, training and validation splits\n",
        "domain_dir = [['/domain_set/virus/test.txt',\n",
        "               '/domain_set/virus/train.txt',\n",
        "               '/domain_set/virus/valid.txt'],\n",
        "              ['/domain_set/archaea/test.txt',\n",
        "               '/domain_set/archaea/train.txt',\n",
        "               '/domain_set/archaea/valid.txt'],\n",
        "              ['/domain_set/bacteria/test.txt',\n",
        "               '/domain_set/bacteria/train.txt',\n",
        "               '/domain_set/bacteria/valid.txt'],\n",
        "              ['/domain_set/eukaryotes/test.txt',\n",
        "               '/domain_set/eukaryotes/train.txt',\n",
        "               '/domain_set/eukaryotes/valid.txt'],\n",
        "              ['/domain_set/completenoeuk/test.txt',\n",
        "               '/domain_set/completenoeuk/train.txt',\n",
        "               '/domain_set/completenoeuk/valid.txt']]\n",
        "\n",
        "domains = ['virus',\n",
        "           'archaea',\n",
        "           'bacteria',\n",
        "           'eukaryotes',\n",
        "           'completenoeuk']\n",
        "\n",
        "# Combining everything but the eukaryotes as described in the paper\n",
        "read_files = [[domain_dir[0][0],domain_dir[1][0],domain_dir[2][0]],\n",
        "              [domain_dir[0][1],domain_dir[1][1],domain_dir[2][1]],\n",
        "              [domain_dir[0][2],domain_dir[1][2],domain_dir[2][2]]]\n",
        "\n",
        "for i in range(len(read_files)):\n",
        "    with open(domain_dir[4][i], \"wb\") as outfile:\n",
        "        for f in read_files[i]:\n",
        "            with open(f, \"rb\") as infile:\n",
        "                outfile.write(infile.read())"
      ],
      "execution_count": 0,
      "outputs": []
    },
    {
      "cell_type": "code",
      "metadata": {
        "id": "kLVHGEU4GAt4",
        "colab_type": "code",
        "colab": {}
      },
      "source": [
        "# Ignore the specific warning in regards to module weights as explained in the discussions chapter of the paper\n",
        "import warnings\n",
        "warnings.simplefilter(\"ignore\", UserWarning)"
      ],
      "execution_count": 0,
      "outputs": []
    },
    {
      "cell_type": "code",
      "metadata": {
        "id": "5Adfwv1BUqC6",
        "colab_type": "code",
        "colab": {}
      },
      "source": [
        "import numpy as np\n",
        "import sys\n",
        "import math\n",
        "\n",
        "import torch\n",
        "\n",
        "import time\n",
        "\n",
        "import torch.nn as nn\n",
        "import torch.nn.functional as F\n",
        "\n",
        "import torch.optim as optim\n",
        "\n",
        "from torch.autograd import Variable\n",
        "\n",
        "import torchtext\n",
        "from torchtext import data\n",
        "from torchtext import datasets\n",
        "\n",
        "from torch.nn.utils import clip_grad_norm_\n",
        "\n",
        "device = torch.device('cuda' if torch.cuda.is_available() else 'cpu')\n",
        "dtype = torch.FloatTensor"
      ],
      "execution_count": 0,
      "outputs": []
    },
    {
      "cell_type": "code",
      "metadata": {
        "id": "LunCmMKwDQmJ",
        "colab_type": "code",
        "colab": {}
      },
      "source": [
        "from torch.nn import Parameter\n",
        "from functools import wraps\n",
        "\n",
        "# Modified WeightDrop function based on the function made by salesforce (https://github.com/salesforce/) found here -> https://github.com/ChengyueGongR/awd-lstm-lm/blob/master/weight_drop.py\n",
        "# using the modifications made in the post -> https://github.com/salesforce/awd-lstm-lm/issues/79 by github user -> https://github.com/shirishr\n",
        "class WeightDrop(torch.nn.Module):\n",
        "    def __init__(self, module, weights, dropout=0, variational=False):\n",
        "        super(WeightDrop, self).__init__()\n",
        "        self.module = module\n",
        "        self.weights = weights\n",
        "        self.dropout = dropout\n",
        "        self.variational = variational\n",
        "        self._setup()\n",
        "\n",
        "    def widget_demagnetizer_y2k_edition(*args, **kwargs):\n",
        "        # We need to replace flatten_parameters with a nothing function\n",
        "        # It must be a function rather than a lambda as otherwise pickling explodes\n",
        "        # We can't write boring code though, so ... WIDGET DEMAGNETIZER Y2K EDITION!\n",
        "        # (╯°□°）╯︵ ┻━┻\n",
        "        return\n",
        "\n",
        "    def _setup(self):\n",
        "        # Terrible temporary solution to an issue regarding compacting weights re: CUDNN RNN\n",
        "        if issubclass(type(self.module), torch.nn.RNNBase):\n",
        "            self.module.flatten_parameters = self.widget_demagnetizer_y2k_edition\n",
        "\n",
        "        for name_w in self.weights:\n",
        "            print('Applying weight drop of {} to {}'.format(self.dropout, name_w))\n",
        "            w = getattr(self.module, name_w)\n",
        "            del self.module._parameters[name_w]\n",
        "            self.module.register_parameter(name_w + '_raw', Parameter(w.data))\n",
        "\n",
        "    def _setweights(self):\n",
        "        for name_w in self.weights:\n",
        "            raw_w = getattr(self.module, name_w + '_raw')\n",
        "            w = None\n",
        "            if self.variational:\n",
        "                mask = torch.autograd.Variable(torch.ones(raw_w.size(0), 1))\n",
        "                if raw_w.is_cuda: mask = mask.cuda()\n",
        "                mask = torch.nn.functional.dropout(mask, p=self.dropout, training=True)\n",
        "            # the modified code    \n",
        "                w = torch.nn.Parameter(mask.expand_as(raw_w) * raw_w)\n",
        "            else:\n",
        "                w = torch.nn.Parameter(torch.nn.functional.dropout(raw_w, p=self.dropout, training=self.training))\n",
        "            # the original code\n",
        "            #    w = mask.expand_as(raw_w) * raw_w\n",
        "            #else:\n",
        "            #    w = torch.nn.functional.dropout(raw_w, p=self.dropout, training=self.training)\n",
        "            setattr(self.module, name_w, w)\n",
        "\n",
        "    def forward(self, *args):\n",
        "        self._setweights()\n",
        "        return self.module.forward(*args)"
      ],
      "execution_count": 0,
      "outputs": []
    },
    {
      "cell_type": "code",
      "metadata": {
        "id": "pikmDcLIUtl0",
        "colab_type": "code",
        "colab": {}
      },
      "source": [
        "# Function to select which dataset should be used\n",
        "def domain_select(domain, field, rootpath):\n",
        "    \n",
        "    splits = ['train',\n",
        "              'valid',\n",
        "              'test']\n",
        "    split = [None]*3\n",
        "\n",
        "    for i in range(3):\n",
        "        path = rootpath + '/' + domain + '/' + splits[i] + '.txt'\n",
        "        split[i] = torchtext.datasets.LanguageModelingDataset(path = path, \n",
        "                                                              text_field = field)\n",
        "\n",
        "    return (split[0],split[1],split[2])"
      ],
      "execution_count": 0,
      "outputs": []
    },
    {
      "cell_type": "markdown",
      "metadata": {
        "id": "GKndNeayQIaq",
        "colab_type": "text"
      },
      "source": [
        "The desired domain can be chosen by changing the domain field to the available domains in the code comment."
      ]
    },
    {
      "cell_type": "code",
      "metadata": {
        "id": "qT4Eiq_uDY3d",
        "colab_type": "code",
        "colab": {}
      },
      "source": [
        "# set up field, path and domain\n",
        "TEXT = data.Field(lower=True, batch_first=False)\n",
        "path = '/content/drive/My Drive/Deep Learning Project/domain_set'\n",
        "domain = 'completenoeuk' # Available domains: virus, archaea, bacteria, eukaryotes (might crash due to size), completenoeuk (a combined set of all domains but eukaryotes)\n",
        "\n",
        "# create torchtext datasets\n",
        "train, valid, test = domain_select(domain = domain,\n",
        "                                   field = TEXT,\n",
        "                                   rootpath = path)\n",
        "\n",
        "# build the vocabulary\n",
        "TEXT.build_vocab(train)\n",
        "\n",
        "# batch size and backpropagate-through-time length\n",
        "batch_size = 20\n",
        "bptt_len = 600\n",
        "\n",
        "# create iterator for splits\n",
        "train_iter, valid_iter, test_iter = data.BPTTIterator.splits((train, valid, test), \n",
        "                                                              batch_sizes = (batch_size, batch_size, 1), \n",
        "                                                              bptt_len = bptt_len, \n",
        "                                                              device = device)"
      ],
      "execution_count": 0,
      "outputs": []
    },
    {
      "cell_type": "code",
      "metadata": {
        "id": "zY8Tf5glDY3p",
        "colab_type": "code",
        "outputId": "f8a4673a-649e-4477-a675-daae1e7d2457",
        "colab": {
          "base_uri": "https://localhost:8080/",
          "height": 35
        }
      },
      "source": [
        "# Display the vocabulary\n",
        "for i in range(len(TEXT.vocab)):\n",
        "    if i < len(TEXT.vocab)-1:\n",
        "        print(TEXT.vocab.itos[i], end = ', ')\n",
        "    else:\n",
        "        print(TEXT.vocab.itos[i], end = '.') "
      ],
      "execution_count": 0,
      "outputs": [
        {
          "output_type": "stream",
          "text": [
            "<unk>, <pad>, l, a, e, g, v, k, d, i, t, s, r, p, n, q, f, y, m, h, w, c, <eos>, x, b, u, z, o."
          ],
          "name": "stdout"
        }
      ]
    },
    {
      "cell_type": "code",
      "metadata": {
        "id": "ej-QxWn2DY31",
        "colab_type": "code",
        "outputId": "cc6b92aa-1635-4bad-83df-66e20d5c54df",
        "colab": {
          "base_uri": "https://localhost:8080/",
          "height": 72
        }
      },
      "source": [
        "# Check amount of batches\n",
        "validation_set = (iter(valid_iter))\n",
        "training_set = (iter(train_iter))\n",
        "test_set = (iter(test_iter))\n",
        "\n",
        "validation_batch_amount = 0\n",
        "while True:\n",
        "    try:\n",
        "        c = (next(validation_set).text)\n",
        "    except StopIteration:\n",
        "        print('Amount of validation text batches: ',validation_batch_amount)\n",
        "        break  # Iterator exhausted: stop the loop\n",
        "    else:\n",
        "        validation_batch_amount = validation_batch_amount + 1\n",
        "\n",
        "training_batch_amount = 0\n",
        "while True:\n",
        "    try:\n",
        "        c = (next(training_set).text)\n",
        "    except StopIteration:\n",
        "        print('Amount of training batches: ',training_batch_amount)\n",
        "        break  # Iterator exhausted: stop the loop\n",
        "    else:\n",
        "        training_batch_amount = training_batch_amount + 1\n",
        "        \n",
        "test_batch_amount = 0\n",
        "while True:\n",
        "    try:\n",
        "        c = (next(test_set).text)\n",
        "    except StopIteration:\n",
        "        print('Amount of test batches: ',test_batch_amount)\n",
        "        break  # Iterator exhausted: stop the loop\n",
        "    else:\n",
        "        test_batch_amount = test_batch_amount + 1      "
      ],
      "execution_count": 0,
      "outputs": [
        {
          "output_type": "stream",
          "text": [
            "Amount of validation text batches:  358\n",
            "Amount of training batches:  2579\n",
            "Amount of test batches:  19098\n"
          ],
          "name": "stdout"
        }
      ]
    },
    {
      "cell_type": "code",
      "metadata": {
        "id": "ip2cAOjRDY37",
        "colab_type": "code",
        "colab": {}
      },
      "source": [
        "# Reset iterators\n",
        "validation_set = (iter(valid_iter))\n",
        "training_set = (iter(train_iter))\n",
        "test_set = (iter(test_iter))"
      ],
      "execution_count": 0,
      "outputs": []
    },
    {
      "cell_type": "code",
      "metadata": {
        "id": "SX2myxwRtyMB",
        "colab_type": "code",
        "colab": {}
      },
      "source": [
        "class Net(nn.Module):\n",
        "    def __init__(self, vocab_size, embed_size, hidden_size, num_layers, weights, dropout):\n",
        "        super(Net, self).__init__()\n",
        "\n",
        "        self.embed = nn.Embedding(num_embeddings = vocab_size, \n",
        "                                  embedding_dim = embed_size)\n",
        "        \n",
        "        self.lstm = nn.LSTM(input_size = embed_size, \n",
        "                            hidden_size = hidden_size, \n",
        "                            num_layers = num_layers, \n",
        "                            batch_first = False)\n",
        "\n",
        "        self.weightdrop = WeightDrop(module = self.lstm, \n",
        "                                     weights = weights, \n",
        "                                     dropout = dropout)\n",
        "        \n",
        "        self.l_out = nn.Linear(in_features = hidden_size, \n",
        "                               out_features = vocab_size, \n",
        "                               bias = False)\n",
        "        \n",
        "    def forward(self, x, hc):\n",
        "        # Embed word ids to vectors\n",
        "        x = self.embed(x)\n",
        "        \n",
        "        # Weightdropped LSTM returns output and last hidden state\n",
        "        out, (h, c) = self.weightdrop(x, hc)\n",
        "\n",
        "        # Reshape output to (sequence_length*batch_size, hidden_size)\n",
        "        out = out.reshape(out.shape[0]*out.shape[1], -1)\n",
        "\n",
        "        # Decode hidden states of all time steps\n",
        "        out = self.l_out(out)\n",
        "\n",
        "        return out, (h, c)"
      ],
      "execution_count": 0,
      "outputs": []
    },
    {
      "cell_type": "code",
      "metadata": {
        "id": "apf_TRc3tz_r",
        "colab_type": "code",
        "colab": {}
      },
      "source": [
        "# Hyper-parameters\n",
        "num_epochs = 10\n",
        "embed_size = 25\n",
        "hidden_size = 128\n",
        "num_layers = 3\n",
        "learning_rate = 0.002\n",
        "max_norm = 0.25\n",
        "weights = ['weight_hh_l' + str(i) for i in range(num_layers)]\n",
        "dropout = 0.9\n",
        "batch_size = 20\n",
        "switch = False\n",
        "vocab_size = len(TEXT.vocab)"
      ],
      "execution_count": 0,
      "outputs": []
    },
    {
      "cell_type": "code",
      "metadata": {
        "id": "kWXH9i4Ruh0A",
        "colab_type": "code",
        "outputId": "5caf1e9a-6848-4a6a-bccf-e4d9a3c644f0",
        "colab": {
          "base_uri": "https://localhost:8080/",
          "height": 219
        }
      },
      "source": [
        "# Initialize a new network\n",
        "net = Net(vocab_size, embed_size, hidden_size, num_layers, weights, dropout).to(device)\n",
        "print(net)"
      ],
      "execution_count": 0,
      "outputs": [
        {
          "output_type": "stream",
          "text": [
            "Applying weight drop of 0.9 to weight_hh_l0\n",
            "Applying weight drop of 0.9 to weight_hh_l1\n",
            "Applying weight drop of 0.9 to weight_hh_l2\n",
            "Net(\n",
            "  (embed): Embedding(28, 25)\n",
            "  (lstm): LSTM(25, 128, num_layers=3)\n",
            "  (weightdrop): WeightDrop(\n",
            "    (module): LSTM(25, 128, num_layers=3)\n",
            "  )\n",
            "  (l_out): Linear(in_features=128, out_features=28, bias=False)\n",
            ")\n"
          ],
          "name": "stdout"
        }
      ]
    },
    {
      "cell_type": "code",
      "metadata": {
        "id": "6BShWQo-DY4J",
        "colab_type": "code",
        "colab": {}
      },
      "source": [
        "# Loss function and optimizer\n",
        "criterion = nn.CrossEntropyLoss()\n",
        "optimizer = optim.SGD(params=net.parameters(), lr=learning_rate)"
      ],
      "execution_count": 0,
      "outputs": []
    },
    {
      "cell_type": "code",
      "metadata": {
        "id": "qTqyJH_N2gcg",
        "colab_type": "code",
        "colab": {}
      },
      "source": [
        "# Detach hidden and cell states of the LSTM\n",
        "def detach(states):\n",
        "    return [state.detach() for state in states]\n",
        "\n",
        "# Weight initialization\n",
        "def weight_init():\n",
        "    return (torch.zeros(num_layers, batch_size, hidden_size).to(device),\n",
        "            torch.zeros(num_layers, batch_size, hidden_size).to(device))"
      ],
      "execution_count": 0,
      "outputs": []
    },
    {
      "cell_type": "code",
      "metadata": {
        "id": "kljzt9FTDY4O",
        "colab_type": "code",
        "outputId": "6d7d3f66-be71-483c-84e3-792401f4ffe3",
        "colab": {
          "base_uri": "https://localhost:8080/",
          "height": 1000
        }
      },
      "source": [
        "# Training loop\n",
        "# Track loss\n",
        "training_loss, validation_loss = [], []\n",
        "\n",
        "NT_ASGD_loss = []\n",
        "\n",
        "# For each epoch\n",
        "for epoch in range(num_epochs):\n",
        "    \n",
        "    # Display epoch number\n",
        "    if epoch == 0:\n",
        "        print(f'Epoch {epoch+1} of {num_epochs}')\n",
        "    else:\n",
        "        print(f'\\nEpoch {epoch+1} of {num_epochs}')\n",
        "        \n",
        "    # Track loss\n",
        "    epoch_training_loss = 0\n",
        "    epoch_validation_loss = 0\n",
        "    \n",
        "    # Validation\n",
        "    net.eval()\n",
        "    \n",
        "    hc = weight_init()\n",
        "\n",
        "    batch_num = 0\n",
        "    print('Net validation')\n",
        "\n",
        "    for batch in valid_iter:\n",
        "        \n",
        "        batch_num = batch_num + 1  \n",
        "        \n",
        "        text = (batch.text).to(device)\n",
        "        target = (batch.target).to(device)\n",
        "        \n",
        "        # Forward pass\n",
        "        hc = detach(hc)\n",
        "        outputs, hc = net(text, hc)\n",
        "        loss = criterion(outputs, target.reshape(-1))\n",
        "        \n",
        "        \n",
        "        # Update loss\n",
        "        epoch_validation_loss += loss.detach()\n",
        "\n",
        "        # Loading bar\n",
        "        sys.stdout.write('\\r')\n",
        "        p = (batch_num) / validation_batch_amount\n",
        "        sys.stdout.write(\"[%-50s] %d%%\" % ('='*int(50*p), 100*p))\n",
        "        sys.stdout.flush()\n",
        "\n",
        "    # Training\n",
        "    net.train()    \n",
        "\n",
        "    hc = weight_init()\n",
        "\n",
        "    batch_num = 0\n",
        "    print('\\nNet training')\n",
        "                  \n",
        "    for batch in train_iter:\n",
        "        batch_num = batch_num + 1\n",
        "\n",
        "        text = (batch.text).to(device)\n",
        "        target = (batch.target).to(device)\n",
        "\n",
        "        # Forward pass\n",
        "        hc = detach(hc)\n",
        "        outputs, hc = net(text, hc)\n",
        "        loss = criterion(outputs, target.reshape(-1))\n",
        "        \n",
        "        # Backward pass\n",
        "        optimizer.zero_grad()\n",
        "        loss.backward()\n",
        "        clip_grad_norm_(net.parameters(), max_norm)\n",
        "        optimizer.step()\n",
        "      \n",
        "        # Update loss\n",
        "        epoch_training_loss += loss.detach()\n",
        "        \n",
        "        # Loading bar\n",
        "        sys.stdout.write('\\r')\n",
        "        p = (batch_num) / training_batch_amount\n",
        "        sys.stdout.write(\"[%-50s] %d%%\" % ('='*int(50*p), 100*p))\n",
        "        sys.stdout.flush()\n",
        "        \n",
        "\n",
        "    # Save loss for plot\n",
        "    training_loss.append(epoch_training_loss/(training_batch_amount))\n",
        "    validation_loss.append(epoch_validation_loss/(validation_batch_amount))\n",
        "\n",
        "    # Print loss every epoch\n",
        "    print(f'\\nTraining loss: {training_loss[-1]}, Validation loss: {validation_loss[-1]}')\n",
        "\n",
        "    # NT-ASGD\n",
        "    NT_ASGD_loss.append(validation_loss[-1].cpu())\n",
        "    if len(NT_ASGD_loss) == 6:\n",
        "        del NT_ASGD_loss[0]\n",
        "        if switch == False:\n",
        "            if np.isclose(NT_ASGD_loss, NT_ASGD_loss[4], rtol=0, atol = 5e-4).all() == True:\n",
        "                print('\\nOptimizer has changed to ASGD')\n",
        "                switch = True\n",
        "                optimizer = optim.ASGD(params=net.parameters(), lr=learning_rate)"
      ],
      "execution_count": 0,
      "outputs": [
        {
          "output_type": "stream",
          "text": [
            "Epoch 1 of 10\n",
            "Net validation\n",
            "[==================================================] 100%\n",
            "Net training\n",
            "[==================================================] 100%\n",
            "Training loss: 3.313389778137207, Validation loss: 3.334681272506714\n",
            "\n",
            "Epoch 2 of 10\n",
            "Net validation\n",
            "[==================================================] 100%\n",
            "Net training\n",
            "[==================================================] 100%\n",
            "Training loss: 3.2634942531585693, Validation loss: 3.2883694171905518\n",
            "\n",
            "Epoch 3 of 10\n",
            "Net validation\n",
            "[==================================================] 100%\n",
            "Net training\n",
            "[==================================================] 100%\n",
            "Training loss: 3.1988396644592285, Validation loss: 3.2248568534851074\n",
            "\n",
            "Epoch 4 of 10\n",
            "Net validation\n",
            "[==================================================] 100%\n",
            "Net training\n",
            "[==================================================] 100%\n",
            "Training loss: 3.128234386444092, Validation loss: 3.1467931270599365\n",
            "\n",
            "Epoch 5 of 10\n",
            "Net validation\n",
            "[==================================================] 100%\n",
            "Net training\n",
            "[==================================================] 100%\n",
            "Training loss: 3.060789108276367, Validation loss: 3.0677640438079834\n",
            "\n",
            "Epoch 6 of 10\n",
            "Net validation\n",
            "[==================================================] 100%\n",
            "Net training\n",
            "[==================================================] 100%\n",
            "Training loss: 3.0058393478393555, Validation loss: 3.001575469970703\n",
            "\n",
            "Epoch 7 of 10\n",
            "Net validation\n",
            "[==================================================] 100%\n",
            "Net training\n",
            "[==================================================] 100%\n",
            "Training loss: 2.967348098754883, Validation loss: 2.9563148021698\n",
            "\n",
            "Epoch 8 of 10\n",
            "Net validation\n",
            "[==================================================] 100%\n",
            "Net training\n",
            "[==================================================] 100%\n",
            "Training loss: 2.9443562030792236, Validation loss: 2.93093204498291\n",
            "\n",
            "Epoch 9 of 10\n",
            "Net validation\n",
            "[==================================================] 100%\n",
            "Net training\n",
            "[==================================================] 100%\n",
            "Training loss: 2.9296019077301025, Validation loss: 2.9169018268585205\n",
            "\n",
            "Epoch 10 of 10\n",
            "Net validation\n",
            "[==================================================] 100%\n",
            "Net training\n",
            "[==================================================] 100%\n",
            "Training loss: 2.9202358722686768, Validation loss: 2.9080750942230225\n"
          ],
          "name": "stdout"
        }
      ]
    },
    {
      "cell_type": "code",
      "metadata": {
        "id": "coUvqt1Q7LT8",
        "colab_type": "code",
        "outputId": "37052493-0877-4439-bed1-7c023a0f1c70",
        "colab": {
          "base_uri": "https://localhost:8080/",
          "height": 54
        }
      },
      "source": [
        "# Compute the test loss and perplexity\n",
        "complete_test_loss = []\n",
        "test_loss = 0\n",
        "batch_num = 0\n",
        "\n",
        "for batch in test_iter:\n",
        "\n",
        "    hc = (torch.zeros(num_layers, 1, hidden_size).to(device),\n",
        "          torch.zeros(num_layers, 1, hidden_size).to(device))\n",
        "    \n",
        "    batch_num = batch_num + 1\n",
        "    text = (batch.text).to(device)\n",
        "    target = (batch.target).to(device)\n",
        "\n",
        "    # Forward pass\n",
        "    hc = detach(hc)\n",
        "    outputs, hc = net(text, hc)\n",
        "    loss = criterion(outputs, target.reshape(-1))\n",
        "\n",
        "    # Update loss\n",
        "    test_loss += loss.detach()\n",
        "\n",
        "    # Loading bar\n",
        "    sys.stdout.write('\\r')\n",
        "    p = (batch_num) / test_batch_amount\n",
        "    sys.stdout.write(\"[%-50s] %d%%\" % ('='*int(50*p), 100*p))\n",
        "    sys.stdout.flush()\n",
        "\n",
        "complete_test_loss = test_loss / test_batch_amount\n",
        "print(f'\\ntest loss: {complete_test_loss}, perplexity: {np.exp(complete_test_loss.cpu())}')"
      ],
      "execution_count": 0,
      "outputs": [
        {
          "output_type": "stream",
          "text": [
            "[==================================================] 100%\n",
            "test_loss: 2.9294137954711914, perplexity: 18.716655731201172\n"
          ],
          "name": "stdout"
        }
      ]
    },
    {
      "cell_type": "code",
      "metadata": {
        "id": "QBXGs1wsbzPH",
        "colab_type": "code",
        "outputId": "7c7b3c6d-3d73-40bf-c222-7780703c561f",
        "colab": {
          "base_uri": "https://localhost:8080/",
          "height": 35
        }
      },
      "source": [
        "# Sampling to a txt file\n",
        "\n",
        "num_samples = 2000\n",
        "\n",
        "with torch.no_grad():\n",
        "    with open('results/completenoeuk_results.txt', 'w') as f:\n",
        "        \n",
        "        # Set intial hidden and cell states\n",
        "        hc = (torch.zeros(num_layers, 1, hidden_size).to(device),\n",
        "                 torch.zeros(num_layers, 1, hidden_size).to(device))\n",
        "\n",
        "        # Starting word, in this case the amino acid M\n",
        "        input = torch.Tensor([[18]]).to(device).long()\n",
        "\n",
        "        for i in range(num_samples):\n",
        "\n",
        "            # Forward pass\n",
        "            output, hc = net(input, hc)\n",
        "\n",
        "            # Sample word\n",
        "            prob = output.exp()\n",
        "            word_id = torch.multinomial(prob, num_samples=1).item()\n",
        "\n",
        "            # Fill input with sampled word for the next time step\n",
        "            input.fill_(word_id)\n",
        "\n",
        "            # File write\n",
        "            if i == 0:\n",
        "                f.write(f'perplexity: {np.exp(complete_test_loss.cpu())}' + '\\n')\n",
        "                f.write('Sequence: ' + TEXT.vocab.itos[18] + ' ') \n",
        "            word = TEXT.vocab.itos[word_id]\n",
        "            word = '\\n' + 'Sequence: ' if word == '<eos>' else word + ' '\n",
        "            f.write(word)\n",
        "\n",
        "    print('Words have been sampled and saved to .txt file')"
      ],
      "execution_count": 0,
      "outputs": [
        {
          "output_type": "stream",
          "text": [
            "Words have been sampled and saved to .txt file\n"
          ],
          "name": "stdout"
        }
      ]
    },
    {
      "cell_type": "code",
      "metadata": {
        "id": "LrIaCW3WErdG",
        "colab_type": "code",
        "colab": {}
      },
      "source": [
        "# Sampling to python output\n",
        "\n",
        "num_samples = 2000\n",
        "\n",
        "with torch.no_grad():\n",
        "    # Set intial hidden and cell states\n",
        "    hc = (torch.zeros(num_layers, 1, hidden_size).to(device),\n",
        "              torch.zeros(num_layers, 1, hidden_size).to(device))\n",
        "\n",
        "    # Starting word, in this case the amino acid M\n",
        "    input = torch.Tensor([[18]]).to(device).long()\n",
        "\n",
        "    for i in range(num_samples):\n",
        "\n",
        "        # Forward pass\n",
        "        output, hc = net(input, hc)\n",
        "\n",
        "        # Sample word\n",
        "        prob = output.exp()\n",
        "        word_id = torch.multinomial(prob, num_samples=1).item()\n",
        "\n",
        "        # Fill input with sampled word for the next time step\n",
        "        input.fill_(word_id)\n",
        "\n",
        "        # File write\n",
        "        if i == 0:\n",
        "            print('Sequence: ' + TEXT.vocab.itos[18], end = ' ') \n",
        "        word = TEXT.vocab.itos[word_id]\n",
        "        word = '\\n' + 'Sequence: ' if word == '<eos>' else word\n",
        "        print(word, end = ' ')"
      ],
      "execution_count": 0,
      "outputs": []
    }
  ]
}